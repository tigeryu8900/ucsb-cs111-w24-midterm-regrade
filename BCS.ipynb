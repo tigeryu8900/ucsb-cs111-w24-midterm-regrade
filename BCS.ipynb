{
 "cells": [
  {
   "cell_type": "code",
   "outputs": [],
   "source": [
    "import numpy as np"
   ],
   "metadata": {
    "collapsed": false,
    "ExecuteTime": {
     "end_time": "2024-03-14T20:48:13.023753Z",
     "start_time": "2024-03-14T20:48:12.863504Z"
    }
   },
   "id": "e297fa4b427ef72a",
   "execution_count": 1
  },
  {
   "cell_type": "code",
   "execution_count": 2,
   "id": "initial_id",
   "metadata": {
    "collapsed": true,
    "ExecuteTime": {
     "end_time": "2024-03-14T20:48:13.033834Z",
     "start_time": "2024-03-14T20:48:13.025541Z"
    }
   },
   "outputs": [],
   "source": [
    "def BCS(X):\n",
    "    T = np.zeros(len(X), dtype=np.int32)\n",
    "    T[0] = 1\n",
    "    for i in range(1, len(X)):\n",
    "        T[i] = T[i - 1] + 1 if abs(X[i - 1] - X[i]) < 73 else 1\n",
    "    return T.max()"
   ]
  },
  {
   "cell_type": "code",
   "outputs": [
    {
     "name": "stdout",
     "output_type": "stream",
     "text": [
      "2\n"
     ]
    }
   ],
   "source": [
    "print(BCS([10, -50, 40, 92, -20, -60, 55, -30, 101, 40]))"
   ],
   "metadata": {
    "collapsed": false,
    "ExecuteTime": {
     "end_time": "2024-03-14T20:48:13.101604Z",
     "start_time": "2024-03-14T20:48:13.035918Z"
    }
   },
   "id": "a83376bf941a50a7",
   "execution_count": 3
  },
  {
   "cell_type": "code",
   "outputs": [],
   "source": [],
   "metadata": {
    "collapsed": false,
    "ExecuteTime": {
     "end_time": "2024-03-14T20:48:13.101973Z",
     "start_time": "2024-03-14T20:48:13.055540Z"
    }
   },
   "id": "551c80f4dfabcee4",
   "execution_count": 3
  }
 ],
 "metadata": {
  "kernelspec": {
   "display_name": "Python 3",
   "language": "python",
   "name": "python3"
  },
  "language_info": {
   "codemirror_mode": {
    "name": "ipython",
    "version": 2
   },
   "file_extension": ".py",
   "mimetype": "text/x-python",
   "name": "python",
   "nbconvert_exporter": "python",
   "pygments_lexer": "ipython2",
   "version": "2.7.6"
  }
 },
 "nbformat": 4,
 "nbformat_minor": 5
}
