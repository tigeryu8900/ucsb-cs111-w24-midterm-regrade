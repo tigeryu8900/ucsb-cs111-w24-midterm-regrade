{
 "cells": [
  {
   "cell_type": "code",
   "execution_count": 1,
   "id": "initial_id",
   "metadata": {
    "collapsed": true,
    "ExecuteTime": {
     "end_time": "2024-03-14T20:48:17.363556Z",
     "start_time": "2024-03-14T20:48:17.275950Z"
    }
   },
   "outputs": [],
   "source": [
    "import numpy as np"
   ]
  },
  {
   "cell_type": "code",
   "outputs": [],
   "source": [
    "def LCS(X, Y):\n",
    "    T = np.full((len(X), len(X)), -1, dtype=np.int32)\n",
    "    result = -1\n",
    "    for i in range(len(X)):\n",
    "        try:\n",
    "            T[i, 0] = Y.index(X[i])\n",
    "        except ValueError:\n",
    "            T[i, 0] = -1\n",
    "        for j in range(1, len(X) - i):\n",
    "            if T[i, j - 1] != -1:\n",
    "                try:\n",
    "                    T[i, j] = Y.index(X[i + j], T[i, j - 1] + 1)\n",
    "                    result = max(result, j)\n",
    "                except ValueError:\n",
    "                    T[i, j] = -1\n",
    "    return result + 1"
   ],
   "metadata": {
    "collapsed": false,
    "ExecuteTime": {
     "end_time": "2024-03-14T20:48:17.377587Z",
     "start_time": "2024-03-14T20:48:17.367751Z"
    }
   },
   "id": "94aa331438bd6a9f",
   "execution_count": 2
  },
  {
   "cell_type": "code",
   "outputs": [
    {
     "name": "stdout",
     "output_type": "stream",
     "text": [
      "4\n"
     ]
    }
   ],
   "source": [
    "print(LCS([\"a\", \"b\", \"d\", \"b\", \"a\", \"b\", \"f\", \"g\", \"d\"],\n",
    "          [\"b\", \"e\", \"t\", \"f\", \"d\", \"b\", \"f\", \"a\", \"f\", \"r\"]))"
   ],
   "metadata": {
    "collapsed": false,
    "ExecuteTime": {
     "end_time": "2024-03-14T20:48:17.400847Z",
     "start_time": "2024-03-14T20:48:17.379715Z"
    }
   },
   "id": "901b5932f58e54a1",
   "execution_count": 3
  },
  {
   "cell_type": "code",
   "outputs": [],
   "source": [],
   "metadata": {
    "collapsed": false,
    "ExecuteTime": {
     "end_time": "2024-03-14T20:48:17.401223Z",
     "start_time": "2024-03-14T20:48:17.387041Z"
    }
   },
   "id": "a3625f4cf035555d",
   "execution_count": 3
  }
 ],
 "metadata": {
  "kernelspec": {
   "display_name": "Python 3",
   "language": "python",
   "name": "python3"
  },
  "language_info": {
   "codemirror_mode": {
    "name": "ipython",
    "version": 2
   },
   "file_extension": ".py",
   "mimetype": "text/x-python",
   "name": "python",
   "nbconvert_exporter": "python",
   "pygments_lexer": "ipython2",
   "version": "2.7.6"
  }
 },
 "nbformat": 4,
 "nbformat_minor": 5
}
